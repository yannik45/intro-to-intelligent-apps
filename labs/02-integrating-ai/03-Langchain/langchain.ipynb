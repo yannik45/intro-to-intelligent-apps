{
 "cells": [
  {
   "attachments": {},
   "cell_type": "markdown",
   "metadata": {},
   "source": [
    "# 03 - Langchain\n",
    "\n",
    "In this lab, we will introduce [Langchain](https://python.langchain.com/docs/get_started/introduction), a framework for developing applications powered by language models.\n",
    "\n",
    "Langchain supports Python and Javascript / Typescript. For this lab, we will use Python."
   ]
  },
  {
   "attachments": {},
   "cell_type": "markdown",
   "metadata": {},
   "source": [
    "We'll start by importing the `AzureOpenAI` specific components from the `langchain` package, including models and schemas for interacting with the API."
   ]
  },
  {
   "cell_type": "code",
   "execution_count": 1,
   "metadata": {},
   "outputs": [],
   "source": [
    "from langchain.llms import AzureOpenAI\n",
    "from langchain_openai import AzureChatOpenAI\n",
    "from langchain.schema import HumanMessage"
   ]
  },
  {
   "attachments": {},
   "cell_type": "markdown",
   "metadata": {},
   "source": [
    "As with all the other labs, we'll need to provide our API key and endpoint details, so we'll load them from our `.env` file."
   ]
  },
  {
   "cell_type": "code",
   "execution_count": 2,
   "metadata": {},
   "outputs": [
    {
     "name": "stdout",
     "output_type": "stream",
     "text": [
      "Found Azure OpenAI Endpoint: https://oai-mtpchatbot-dev-frcent-001.openai.azure.com/\n"
     ]
    }
   ],
   "source": [
    "import os\n",
    "import openai\n",
    "from dotenv import load_dotenv\n",
    "\n",
    "if load_dotenv():\n",
    "    print(\"Found Azure OpenAI Endpoint: \" + os.getenv(\"AZURE_OPENAI_ENDPOINT\"))\n",
    "else: \n",
    "    print(\"No file .env found\")"
   ]
  },
  {
   "attachments": {},
   "cell_type": "markdown",
   "metadata": {},
   "source": [
    "Next, we'll configure Langchain by providing the Azure OpenAI deployment name. Langchain will automatically retrieve details for the Azure OpenAI endpoint and version from the environment variables we've set above."
   ]
  },
  {
   "cell_type": "code",
   "execution_count": 3,
   "metadata": {},
   "outputs": [],
   "source": [
    "# Create an instance of Azure OpenAI\n",
    "llm = AzureChatOpenAI(\n",
    "    azure_deployment = os.getenv(\"AZURE_OPENAI_COMPLETION_DEPLOYMENT_NAME\")\n",
    ")"
   ]
  },
  {
   "attachments": {},
   "cell_type": "markdown",
   "metadata": {},
   "source": [
    "## Send a prompt to Azure OpenAI using Langchain\n",
    "\n",
    "We're now ready to send a request to Azure OpenAI. To do this, we invoke the `llm` instance we created above and pass in the prompt."
   ]
  },
  {
   "cell_type": "code",
   "execution_count": 4,
   "metadata": {},
   "outputs": [
    {
     "name": "stdout",
     "output_type": "stream",
     "text": [
      "To determine the current age of the President of the United States, follow these steps:\n",
      "\n",
      "1. Identify the current President:\n",
      "As of my last update in early 2023, the President of the United States is Joe Biden.\n",
      "\n",
      "2. Find the birth date:\n",
      "Joe Biden was born on November 20, 1942.\n",
      "\n",
      "3. Calculate the age:\n",
      "To calculate Joe Biden's age, you would subtract his birth year from the current year to get a rough estimate of his age. However, you must also consider whether his birthday has already occurred in the current year to get an accurate age.\n",
      "\n",
      "If today's date is after November 20 in the current year, you would add one year to the rough estimate.\n",
      "If today's date is before November 20, the rough estimate is his current age.\n",
      "\n",
      "For example, if today's date is after November 20, 2023, Joe Biden would be:\n",
      "\n",
      "2023 - 1942 = 81 years old (since he will have celebrated his birthday on November 20, 2023).\n",
      "\n",
      "If today's date is before November 20, 2023, you would not add a year, and thus as of before his birthday in 2023, Joe Biden would be:\n",
      "\n",
      "2023 - 1942 = 81 years old, but since he has not yet celebrated his birthday, he would still be 80 years old.\n",
      "\n",
      "Please note that you'll need to use the current date to calculate his exact age at the time of your inquiry.\n"
     ]
    }
   ],
   "source": [
    "# Define the prompt we want the AI to respond to - the message the Human user is asking\n",
    "msg = HumanMessage(content=\"Explain step by step. How old is the president of USA?\")\n",
    "\n",
    "# Call the API\n",
    "r = llm.invoke([msg])\n",
    "\n",
    "# Print the response\n",
    "print(r.content)"
   ]
  },
  {
   "attachments": {},
   "cell_type": "markdown",
   "metadata": {},
   "source": [
    "## Send a prompt to Azure OpenAI using Langchain Chaining\n",
    "\n",
    "Now that we have seen Langchain in action, let's take a quick peek at chaining and adding variables to our prompt. To do this we will add `LLMChain` to the `llm` instance created above."
   ]
  },
  {
   "cell_type": "code",
   "execution_count": 5,
   "metadata": {},
   "outputs": [],
   "source": [
    "from langchain.prompts import PromptTemplate\n",
    "from langchain.chains import LLMChain"
   ]
  },
  {
   "attachments": {},
   "cell_type": "markdown",
   "metadata": {},
   "source": [
    "With the OpenAI API, we still had to pass the prompt in using the `Completion.create()` method. With Langchain, we can create a `PromptTemplate`. This way, we can define our prompt up front and leave placeholders for values that will be set later on. The placeholder could be values that are passed from an end user or application via an API. We don't know what they at this point.\n",
    "\n",
    "In the below example, the `{input}` in curly brackets is the placeholder value that will be populated later on."
   ]
  },
  {
   "cell_type": "code",
   "execution_count": 6,
   "metadata": {},
   "outputs": [],
   "source": [
    "# Create a prompt template with variables, note the curly braces\n",
    "prompt = PromptTemplate(\n",
    "    input_variables=[\"input\"],\n",
    "    template=\"What interesting things can I make with a {input}?\",\n",
    ")"
   ]
  },
  {
   "attachments": {},
   "cell_type": "markdown",
   "metadata": {},
   "source": [
    "Next we define a chain. In this case, the chain has two components. One component is the prompt template. The other is the object that represents our AI model (`llm`)."
   ]
  },
  {
   "cell_type": "code",
   "execution_count": 7,
   "metadata": {},
   "outputs": [],
   "source": [
    "# Create a chain\n",
    "chain = LLMChain(llm=llm, prompt=prompt)"
   ]
  },
  {
   "attachments": {},
   "cell_type": "markdown",
   "metadata": {},
   "source": [
    "Finally, we initiate the chain. You can see that we pass in a value for the `input` placeholder."
   ]
  },
  {
   "cell_type": "code",
   "execution_count": 8,
   "metadata": {},
   "outputs": [
    {
     "name": "stdout",
     "output_type": "stream",
     "text": [
      "The Raspberry Pi is an incredibly versatile and powerful little computer that can be used for a vast array of interesting and creative projects. Here are some interesting ideas to get you started:\n",
      "\n",
      "1. **Retro Gaming Console**: Turn your Raspberry Pi into a retro gaming machine with emulators for classic consoles like the NES, SNES, Sega Genesis, and more using software like RetroPie.\n",
      "\n",
      "2. **Home Automation**: Use the Raspberry Pi to control lights, plugs, and sensors in your house, making it a hub for smart home gadgets.\n",
      "\n",
      "3. **Media Center**: Create your own media center with software like OSMC or Plex to play movies, music, and stream content to other devices.\n",
      "\n",
      "4. **Personal Web Server**: Host your own website or blog by setting up a LAMP (Linux, Apache, MySQL, PHP) or LEMP (Linux, Nginx, MySQL, PHP) stack.\n",
      "\n",
      "5. **Network-Attached Storage (NAS)**: Turn your Raspberry Pi into a NAS for home file sharing and backups using software like OpenMediaVault.\n",
      "\n",
      "6. **Pi-hole**: Set up a network-wide ad blocker to prevent ads on all devices connected to your home network.\n",
      "\n",
      "7. **Weather Station**: Connect weather sensors to your Raspberry Pi and collect data about the temperature, humidity, barometric pressure, and more.\n",
      "\n",
      "8. **Security Camera System**: Use the Pi with motion sensors and cameras to create a home security system and even set it up for live streaming.\n",
      "\n",
      "9. **Robotics**: Build and program your own robots. Raspberry Pi can act as the brain for robotic projects, from simple wheeled robots to advanced humanoid robots.\n",
      "\n",
      "10. **IoT Projects**: Create Internet of Things devices that can collect data and be controlled over the internet.\n",
      "\n",
      "11. **Learning and Education**: Use the Raspberry Pi for coding, learning programming languages, and electronics through hands-on projects.\n",
      "\n",
      "12. **Magic Mirror**: Build an interactive mirror that displays time, weather, calendar, news updates, and personalized information.\n",
      "\n",
      "13. **Voice Assistant**: Create your own version of Amazon Echo or Google Home with open-source software like Mycroft or Picroft.\n",
      "\n",
      "14. **Digital Art Frame**: Display digital art or photographs, and even create a slideshow that changes based on time of day or season.\n",
      "\n",
      "15. **VPN Server**: Set up a VPN server to securely access your home network from anywhere in the world.\n",
      "\n",
      "16. **AI Experiments**: Experiment with AI and machine learning using tools like TensorFlow to recognize images, speech, or patterns.\n",
      "\n",
      "17. **Music Server**: Use software like Mopidy or Volumio to stream music throughout your home or to any device.\n",
      "\n",
      "18. **Amateur Radio**: For those interested in amateur radio, use the Raspberry Pi to send and receive digital communications.\n",
      "\n",
      "19. **Plant Monitoring System**: Keep tabs on your plants' health, soil moisture, light levels, and temperature to ensure optimal growth.\n",
      "\n",
      "20. **Arcade Cabinet**: Build a full-sized or mini arcade cabinet for playing games, complete with joystick and buttons.\n",
      "\n",
      "Remember that each project may require additional components like sensors, relays, displays, or other hardware, and you'll typically need to write or use existing software to control these elements. The Raspberry Pi community is very active, and you can find numerous tutorials and forums to help you with your projects.\n"
     ]
    }
   ],
   "source": [
    "# Run the chain only specifying the input variable.\n",
    "response = chain.invoke({\"input\": \"raspberry pi\"})\n",
    "\n",
    "# As we are using a single input variable, you could also run the string like this:\n",
    "# response = chain.run(\"raspberry pi\")\n",
    "\n",
    "print(response['text'])"
   ]
  },
  {
   "attachments": {},
   "cell_type": "markdown",
   "metadata": {},
   "source": [
    "## Summary\n",
    "\n",
    "Langchain is an example of an AI orchestrator. It provides an alternative method to the raw API or using an SDK package to access the AI models, but on top of that can provide additional integrations, deal with issues related to rate limiting of the API and provide an abstraction layer over potentially complex operations. We'll get into those more complex use cases in later labs."
   ]
  },
  {
   "attachments": {},
   "cell_type": "markdown",
   "metadata": {},
   "source": [
    "## Up Next\n",
    "\n",
    "In the next lab, we'll look at another AI Orchestrator - Semantic Kernel."
   ]
  },
  {
   "cell_type": "markdown",
   "metadata": {},
   "source": [
    "## Next Section\n",
    "\n",
    "📣 [Semantic Kernel](../04-SemanticKernel/semantickernel.ipynb)"
   ]
  }
 ],
 "metadata": {
  "kernelspec": {
   "display_name": "Python 3",
   "language": "python",
   "name": "python3"
  },
  "language_info": {
   "codemirror_mode": {
    "name": "ipython",
    "version": 3
   },
   "file_extension": ".py",
   "mimetype": "text/x-python",
   "name": "python",
   "nbconvert_exporter": "python",
   "pygments_lexer": "ipython3",
   "version": "3.11.8"
  },
  "orig_nbformat": 4
 },
 "nbformat": 4,
 "nbformat_minor": 2
}
