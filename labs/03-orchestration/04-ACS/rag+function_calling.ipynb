{
 "cells": [
  {
   "cell_type": "code",
   "execution_count": 12,
   "metadata": {},
   "outputs": [
    {
     "name": "stdout",
     "output_type": "stream",
     "text": [
      "/bin/bash: line 1: fg: no job control\n",
      "/bin/bash: line 1: fg: no job control\n"
     ]
    },
    {
     "name": "stdout",
     "output_type": "stream",
     "text": [
      "/bin/bash: line 1: fg: no job control\n",
      "/bin/bash: line 1: fg: no job control\n",
      "Requirement already satisfied: langchainhub in /usr/local/python/3.11.8/lib/python3.11/site-packages (0.1.15)\n",
      "Requirement already satisfied: requests<3,>=2 in /home/vscode/.local/lib/python3.11/site-packages (from langchainhub) (2.31.0)\n",
      "Requirement already satisfied: types-requests<3.0.0.0,>=2.31.0.2 in /usr/local/python/3.11.8/lib/python3.11/site-packages (from langchainhub) (2.31.0.20240218)\n",
      "Requirement already satisfied: charset-normalizer<4,>=2 in /home/vscode/.local/lib/python3.11/site-packages (from requests<3,>=2->langchainhub) (3.3.2)\n",
      "Requirement already satisfied: idna<4,>=2.5 in /home/vscode/.local/lib/python3.11/site-packages (from requests<3,>=2->langchainhub) (3.6)\n",
      "Requirement already satisfied: urllib3<3,>=1.21.1 in /home/vscode/.local/lib/python3.11/site-packages (from requests<3,>=2->langchainhub) (2.2.1)\n",
      "Requirement already satisfied: certifi>=2017.4.17 in /home/vscode/.local/lib/python3.11/site-packages (from requests<3,>=2->langchainhub) (2024.2.2)\n"
     ]
    }
   ],
   "source": [
    "!%pip install --upgrade langchain\n",
    "!%pip install --upgrade langchain-openai\n",
    "!%pip install -qU langchain-core langchain-openai\n",
    "!%pip install --upgrade openai\n",
    "!pip install langchainhub"
   ]
  },
  {
   "cell_type": "code",
   "execution_count": 13,
   "metadata": {},
   "outputs": [
    {
     "name": "stdout",
     "output_type": "stream",
     "text": [
      "This lab exercise will use the following values:\n",
      "Azure OpenAI Endpoint: https://oai-mtpchatbot-dev-frcent-001.openai.azure.com/\n",
      "Azure AI Search: srch-mtpchatbot-dev-frcent-001\n"
     ]
    }
   ],
   "source": [
    "import os\n",
    "from dotenv import load_dotenv\n",
    "\n",
    "# Load environment variables\n",
    "if load_dotenv():\n",
    "    print(\"This lab exercise will use the following values:\")\n",
    "    print(\"Azure OpenAI Endpoint: \" + os.getenv(\"AZURE_OPENAI_ENDPOINT\"))\n",
    "    print(\"Azure AI Search: \" + os.getenv(\"AZURE_AI_SEARCH_SERVICE_NAME\"))\n",
    "else: \n",
    "    print(\"No file .env found\")\n",
    "\n",
    "azure_openai_api_key = os.getenv(\"AZURE_OPENAI_API_KEY\")\n",
    "azure_openai_endpoint = os.getenv(\"AZURE_OPENAI_ENDPOINT\")\n",
    "openai_api_version = os.getenv(\"OPENAI_API_VERSION\")\n",
    "azure_openai_completion_deployment_name = os.getenv(\"AZURE_OPENAI_COMPLETION_DEPLOYMENT_NAME\")\n",
    "azure_openai_embedding_deployment_name = os.getenv(\"AZURE_OPENAI_EMBEDDING_DEPLOYMENT_NAME\")\n",
    "azure_ai_search_name = os.getenv(\"AZURE_AI_SEARCH_SERVICE_NAME\")\n",
    "azure_ai_search_endpoint = os.getenv(\"AZURE_AI_SEARCH_ENDPOINT\")\n",
    "azure_ai_search_index_name = os.getenv(\"AZURE_AI_SEARCH_INDEX_NAME\")\n",
    "azure_ai_search_api_key = os.getenv(\"AZURE_AI_SEARCH_API_KEY\")\n",
    "\n",
    "\n",
    "\n",
    "\n",
    "\n"
   ]
  },
  {
   "cell_type": "code",
   "execution_count": 14,
   "metadata": {},
   "outputs": [],
   "source": [
    "from langchain_openai import AzureOpenAIEmbeddings\n",
    "\n",
    "azure_openai_embeddings = AzureOpenAIEmbeddings(\n",
    "    azure_deployment = os.getenv(\"AZURE_OPENAI_EMBEDDING_DEPLOYMENT_NAME\"),\n",
    "    openai_api_version = os.getenv(\"OPENAI_EMBEDDING_API_VERSION\"),\n",
    "    model= os.getenv(\"AZURE_OPENAI_EMBEDDING_MODEL\"),\n",
    ")"
   ]
  },
  {
   "cell_type": "code",
   "execution_count": 15,
   "metadata": {},
   "outputs": [],
   "source": [
    "from azure.core.credentials import AzureKeyCredential\n",
    "from azure.search.documents import SearchClient\n",
    "from azure.search.documents.indexes import SearchIndexClient\n",
    "\n",
    "from azure.search.documents.models import (\n",
    "    VectorizedQuery\n",
    ")\n",
    "\n",
    "from langchain_community.vectorstores.azuresearch import AzureSearch\n",
    "\n",
    "from langchain_core.tools import tool\n",
    "\n",
    "\n",
    "from langchain_openai import AzureOpenAIEmbeddings\n",
    "from langchain_openai import AzureChatOpenAI\n",
    "from langchain.chains import LLMChain\n",
    "from langchain_community.tools import MoveFileTool\n",
    "from langchain_core.messages import HumanMessage\n",
    "from langchain_core.utils.function_calling import convert_to_openai_function\n",
    "from langchain_openai import ChatOpenAI\n",
    "from langchain import hub\n",
    "from langchain.agents import AgentExecutor, create_openai_tools_agent\n",
    "from langchain_openai import ChatOpenAI\n",
    "from langchain_core.pydantic_v1 import BaseModel, Field\n"
   ]
  },
  {
   "cell_type": "code",
   "execution_count": 16,
   "metadata": {},
   "outputs": [],
   "source": [
    "class TruckLiveStatus(BaseModel):\n",
    "\n",
    "    @tool\n",
    "    def get_trucklive_status(vin: int):\n",
    "        \"\"\"Return the TruckLive status of a truck given the vehicle identification number (VIN).\"\"\"\n",
    "        return \"activated\"\n"
   ]
  },
  {
   "cell_type": "code",
   "execution_count": 17,
   "metadata": {},
   "outputs": [
    {
     "name": "stdout",
     "output_type": "stream",
     "text": [
      "get_trucklive_status\n",
      "get_trucklive_status(vin: int) - Return the TruckLive status of a truck given the vehicle identification number (VIN).\n",
      "{'vin': {'title': 'Vin', 'type': 'integer'}}\n"
     ]
    },
    {
     "data": {
      "text/plain": [
       "'activated'"
      ]
     },
     "execution_count": 17,
     "metadata": {},
     "output_type": "execute_result"
    }
   ],
   "source": [
    "print(get_trucklive_status.name)\n",
    "print(get_trucklive_status.description)\n",
    "print(get_trucklive_status.args)\n",
    "get_trucklive_status.invoke({\"vin\":1256789})"
   ]
  },
  {
   "cell_type": "code",
   "execution_count": 18,
   "metadata": {},
   "outputs": [],
   "source": [
    "index_name: str = \"mtp-chatbot-hybrid-search-plus-weblate-plus-websites\"\n",
    "vector_store: AzureSearch = AzureSearch(\n",
    "    azure_search_endpoint=os.getenv(\"AZURE_AI_SEARCH_ENDPOINT\"),\n",
    "    azure_search_key=os.getenv(\"AZURE_AI_SEARCH_API_KEY\"),\n",
    "    index_name=index_name,\n",
    "    embedding_function=azure_openai_embeddings.embed_query,\n",
    ")"
   ]
  },
  {
   "cell_type": "code",
   "execution_count": 19,
   "metadata": {},
   "outputs": [
    {
     "name": "stdout",
     "output_type": "stream",
     "text": [
      "1\n",
      "\n",
      "Schritt 1: \n",
      "Registrieren Sie sich für MyTruckPoint. \n",
      "Anschließend erscheint eine Schaltfläche zur\n",
      "Registrierung von TruckLive. \n",
      "Um den Prozess zu beginnen, klicken Sie bitte\n",
      "auf „Weiter“. (     )1\n",
      "\n",
      "TRUCKLIVE: KURZANLEITUNG VERTRAGSABSCHLUSS\n",
      "\n",
      "\n",
      "\n",
      "2\n",
      "\n",
      "Schritt 2:\n",
      "Stimmen Sie dem Daimler Rahmenvertrag\n",
      "für digitale Dienste zu. (     )\n",
      "Klicken Sie anschließend auf „Bestätigen\n",
      "und Weiter“. (     )3\n",
      "\n",
      "2\n",
      "\n",
      "TRUCKLIVE: KURZANLEITUNG VERTRAGSABSCHLUSS\n",
      "\n",
      "\n",
      "\n",
      "3\n",
      "\n",
      "Schritt 3:\n",
      "Stimmen Sie dem TruckLive Vertrag zu. (     )\n",
      "Klicken Sie anschließend auf „Bestätigen\n",
      "und Weiter“. (     )\n",
      "\n",
      "4\n",
      "\n",
      "5\n",
      "\n",
      "TRUCKLIVE: KURZANLEITUNG VERTRAGSABSCHLUSS\n",
      "\n",
      "\n",
      "\n",
      "4\n",
      "\n",
      "Schritt 4:\n",
      "Definieren Sie einen Zeitpunkt, ab dem TruckLive\n",
      "für zukünftige Fahrzeuge aktiviert werden soll. (     )\n",
      "Wählen Sie danach eine Kontaktperson aus dem\n",
      "eigenen Unternehmen aus, welche die Meldungen \n",
      "zu TruckLive bekommen soll. (     ) \n",
      "Abschließend klicken Sie auf „Bestätigen“. (     )\n",
      "\n",
      "Herzlichen Glückwunsch! \n",
      "TruckLive ist nun aktiviert und all Ihre Neufahrzeuge\n",
      "erhalten TruckLive (inkl. Live Traffic) automatisch ab\n",
      "Ihrem gewünschten Aktivierungszeitpunkt.\n",
      "\n",
      "7\n",
      "\n",
      "8\n",
      "\n",
      "6\n",
      "\n",
      "TRUCKLIVE: KURZANLEITUNG VERTRAGSABSCHLUSS\n"
     ]
    }
   ],
   "source": [
    "# Perform a similarity search\n",
    "results = vector_store.similarity_search(\n",
    "    query=\"Wie schließe ich einen TruckLive Vertrag ab?\",\n",
    "    k=3,\n",
    "    search_type=\"hybrid\",\n",
    ")\n",
    "print(results[0].page_content)"
   ]
  },
  {
   "cell_type": "code",
   "execution_count": 20,
   "metadata": {},
   "outputs": [
    {
     "ename": "TypeError",
     "evalue": "Object of type 'ModelMetaclass' is not JSON serializable",
     "output_type": "error",
     "traceback": [
      "\u001b[0;31m---------------------------------------------------------------------------\u001b[0m",
      "\u001b[0;31mTypeError\u001b[0m                                 Traceback (most recent call last)",
      "Cell \u001b[0;32mIn[20], line 15\u001b[0m\n\u001b[1;32m      4\u001b[0m azure_openai_embeddings \u001b[38;5;241m=\u001b[39m AzureOpenAIEmbeddings(\n\u001b[1;32m      5\u001b[0m     azure_deployment \u001b[38;5;241m=\u001b[39m os\u001b[38;5;241m.\u001b[39mgetenv(\u001b[38;5;124m\"\u001b[39m\u001b[38;5;124mAZURE_OPENAI_EMBEDDING_DEPLOYMENT_NAME\u001b[39m\u001b[38;5;124m\"\u001b[39m)\n\u001b[1;32m      6\u001b[0m )\n\u001b[1;32m      8\u001b[0m azure_openai \u001b[38;5;241m=\u001b[39m AzureChatOpenAI(\n\u001b[1;32m      9\u001b[0m     azure_deployment \u001b[38;5;241m=\u001b[39m os\u001b[38;5;241m.\u001b[39mgetenv(\u001b[38;5;124m\"\u001b[39m\u001b[38;5;124mAZURE_OPENAI_COMPLETION_DEPLOYMENT_NAME\u001b[39m\u001b[38;5;124m\"\u001b[39m)\n\u001b[1;32m     10\u001b[0m )\n\u001b[0;32m---> 15\u001b[0m model_with_tools \u001b[38;5;241m=\u001b[39m \u001b[43mazure_openai\u001b[49m\u001b[38;5;241;43m.\u001b[39;49m\u001b[43mbind_tools\u001b[49m\u001b[43m(\u001b[49m\u001b[43m[\u001b[49m\u001b[43mTruckLiveStatus\u001b[49m\u001b[43m]\u001b[49m\u001b[43m,\u001b[49m\u001b[43m \u001b[49m\u001b[43mtool_choice\u001b[49m\u001b[38;5;241;43m=\u001b[39;49m\u001b[38;5;124;43m\"\u001b[39;49m\u001b[38;5;124;43mauto\u001b[39;49m\u001b[38;5;124;43m\"\u001b[39;49m\u001b[43m)\u001b[49m\n\u001b[1;32m     19\u001b[0m \u001b[38;5;66;03m#model_with_tools = azure_openai.bind_tools([get_trucklive_status], tool_choice=\"auto\")\u001b[39;00m\n\u001b[1;32m     20\u001b[0m \u001b[38;5;66;03m#model_with_tools.kwargs[\"tools\"]\u001b[39;00m\n\u001b[1;32m     21\u001b[0m \n\u001b[1;32m     22\u001b[0m \u001b[38;5;66;03m# Ask the question\u001b[39;00m\n\u001b[1;32m     23\u001b[0m query \u001b[38;5;241m=\u001b[39m \u001b[38;5;124m\"\u001b[39m\u001b[38;5;124mWhat is the TruckLive Status of my truck with the vin 123456789?\u001b[39m\u001b[38;5;124m\"\u001b[39m\n",
      "File \u001b[0;32m/usr/local/python/3.11.8/lib/python3.11/site-packages/langchain_openai/chat_models/base.py:721\u001b[0m, in \u001b[0;36mChatOpenAI.bind_tools\u001b[0;34m(self, tools, tool_choice, **kwargs)\u001b[0m\n\u001b[1;32m    696\u001b[0m \u001b[38;5;28;01mdef\u001b[39;00m \u001b[38;5;21mbind_tools\u001b[39m(\n\u001b[1;32m    697\u001b[0m     \u001b[38;5;28mself\u001b[39m,\n\u001b[1;32m    698\u001b[0m     tools: Sequence[Union[Dict[\u001b[38;5;28mstr\u001b[39m, Any], Type[BaseModel], Callable, BaseTool]],\n\u001b[0;32m   (...)\u001b[0m\n\u001b[1;32m    701\u001b[0m     \u001b[38;5;241m*\u001b[39m\u001b[38;5;241m*\u001b[39mkwargs: Any,\n\u001b[1;32m    702\u001b[0m ) \u001b[38;5;241m-\u001b[39m\u001b[38;5;241m>\u001b[39m Runnable[LanguageModelInput, BaseMessage]:\n\u001b[1;32m    703\u001b[0m \u001b[38;5;250m    \u001b[39m\u001b[38;5;124;03m\"\"\"Bind tool-like objects to this chat model.\u001b[39;00m\n\u001b[1;32m    704\u001b[0m \n\u001b[1;32m    705\u001b[0m \u001b[38;5;124;03m    Assumes model is compatible with OpenAI tool-calling API.\u001b[39;00m\n\u001b[0;32m   (...)\u001b[0m\n\u001b[1;32m    718\u001b[0m \u001b[38;5;124;03m            :class:`~langchain.runnable.Runnable` constructor.\u001b[39;00m\n\u001b[1;32m    719\u001b[0m \u001b[38;5;124;03m    \"\"\"\u001b[39;00m\n\u001b[0;32m--> 721\u001b[0m     formatted_tools \u001b[38;5;241m=\u001b[39m \u001b[43m[\u001b[49m\u001b[43mconvert_to_openai_tool\u001b[49m\u001b[43m(\u001b[49m\u001b[43mtool\u001b[49m\u001b[43m)\u001b[49m\u001b[43m \u001b[49m\u001b[38;5;28;43;01mfor\u001b[39;49;00m\u001b[43m \u001b[49m\u001b[43mtool\u001b[49m\u001b[43m \u001b[49m\u001b[38;5;129;43;01min\u001b[39;49;00m\u001b[43m \u001b[49m\u001b[43mtools\u001b[49m\u001b[43m]\u001b[49m\n\u001b[1;32m    722\u001b[0m     \u001b[38;5;28;01mif\u001b[39;00m tool_choice \u001b[38;5;129;01mis\u001b[39;00m \u001b[38;5;129;01mnot\u001b[39;00m \u001b[38;5;28;01mNone\u001b[39;00m \u001b[38;5;129;01mand\u001b[39;00m tool_choice:\n\u001b[1;32m    723\u001b[0m         \u001b[38;5;28;01mif\u001b[39;00m \u001b[38;5;28mlen\u001b[39m(formatted_tools) \u001b[38;5;241m!=\u001b[39m \u001b[38;5;241m1\u001b[39m:\n",
      "File \u001b[0;32m/usr/local/python/3.11.8/lib/python3.11/site-packages/langchain_openai/chat_models/base.py:721\u001b[0m, in \u001b[0;36m<listcomp>\u001b[0;34m(.0)\u001b[0m\n\u001b[1;32m    696\u001b[0m \u001b[38;5;28;01mdef\u001b[39;00m \u001b[38;5;21mbind_tools\u001b[39m(\n\u001b[1;32m    697\u001b[0m     \u001b[38;5;28mself\u001b[39m,\n\u001b[1;32m    698\u001b[0m     tools: Sequence[Union[Dict[\u001b[38;5;28mstr\u001b[39m, Any], Type[BaseModel], Callable, BaseTool]],\n\u001b[0;32m   (...)\u001b[0m\n\u001b[1;32m    701\u001b[0m     \u001b[38;5;241m*\u001b[39m\u001b[38;5;241m*\u001b[39mkwargs: Any,\n\u001b[1;32m    702\u001b[0m ) \u001b[38;5;241m-\u001b[39m\u001b[38;5;241m>\u001b[39m Runnable[LanguageModelInput, BaseMessage]:\n\u001b[1;32m    703\u001b[0m \u001b[38;5;250m    \u001b[39m\u001b[38;5;124;03m\"\"\"Bind tool-like objects to this chat model.\u001b[39;00m\n\u001b[1;32m    704\u001b[0m \n\u001b[1;32m    705\u001b[0m \u001b[38;5;124;03m    Assumes model is compatible with OpenAI tool-calling API.\u001b[39;00m\n\u001b[0;32m   (...)\u001b[0m\n\u001b[1;32m    718\u001b[0m \u001b[38;5;124;03m            :class:`~langchain.runnable.Runnable` constructor.\u001b[39;00m\n\u001b[1;32m    719\u001b[0m \u001b[38;5;124;03m    \"\"\"\u001b[39;00m\n\u001b[0;32m--> 721\u001b[0m     formatted_tools \u001b[38;5;241m=\u001b[39m [\u001b[43mconvert_to_openai_tool\u001b[49m\u001b[43m(\u001b[49m\u001b[43mtool\u001b[49m\u001b[43m)\u001b[49m \u001b[38;5;28;01mfor\u001b[39;00m tool \u001b[38;5;129;01min\u001b[39;00m tools]\n\u001b[1;32m    722\u001b[0m     \u001b[38;5;28;01mif\u001b[39;00m tool_choice \u001b[38;5;129;01mis\u001b[39;00m \u001b[38;5;129;01mnot\u001b[39;00m \u001b[38;5;28;01mNone\u001b[39;00m \u001b[38;5;129;01mand\u001b[39;00m tool_choice:\n\u001b[1;32m    723\u001b[0m         \u001b[38;5;28;01mif\u001b[39;00m \u001b[38;5;28mlen\u001b[39m(formatted_tools) \u001b[38;5;241m!=\u001b[39m \u001b[38;5;241m1\u001b[39m:\n",
      "File \u001b[0;32m/usr/local/python/3.11.8/lib/python3.11/site-packages/langchain_core/utils/function_calling.py:312\u001b[0m, in \u001b[0;36mconvert_to_openai_tool\u001b[0;34m(tool)\u001b[0m\n\u001b[1;32m    310\u001b[0m \u001b[38;5;28;01mif\u001b[39;00m \u001b[38;5;28misinstance\u001b[39m(tool, \u001b[38;5;28mdict\u001b[39m) \u001b[38;5;129;01mand\u001b[39;00m \u001b[38;5;124m\"\u001b[39m\u001b[38;5;124mtype\u001b[39m\u001b[38;5;124m\"\u001b[39m \u001b[38;5;129;01min\u001b[39;00m tool:\n\u001b[1;32m    311\u001b[0m     \u001b[38;5;28;01mreturn\u001b[39;00m tool\n\u001b[0;32m--> 312\u001b[0m function \u001b[38;5;241m=\u001b[39m \u001b[43mconvert_to_openai_function\u001b[49m\u001b[43m(\u001b[49m\u001b[43mtool\u001b[49m\u001b[43m)\u001b[49m\n\u001b[1;32m    313\u001b[0m \u001b[38;5;28;01mreturn\u001b[39;00m {\u001b[38;5;124m\"\u001b[39m\u001b[38;5;124mtype\u001b[39m\u001b[38;5;124m\"\u001b[39m: \u001b[38;5;124m\"\u001b[39m\u001b[38;5;124mfunction\u001b[39m\u001b[38;5;124m\"\u001b[39m, \u001b[38;5;124m\"\u001b[39m\u001b[38;5;124mfunction\u001b[39m\u001b[38;5;124m\"\u001b[39m: function}\n",
      "File \u001b[0;32m/usr/local/python/3.11.8/lib/python3.11/site-packages/langchain_core/utils/function_calling.py:284\u001b[0m, in \u001b[0;36mconvert_to_openai_function\u001b[0;34m(function)\u001b[0m\n\u001b[1;32m    282\u001b[0m     \u001b[38;5;28;01mreturn\u001b[39;00m function\n\u001b[1;32m    283\u001b[0m \u001b[38;5;28;01melif\u001b[39;00m \u001b[38;5;28misinstance\u001b[39m(function, \u001b[38;5;28mtype\u001b[39m) \u001b[38;5;129;01mand\u001b[39;00m \u001b[38;5;28missubclass\u001b[39m(function, BaseModel):\n\u001b[0;32m--> 284\u001b[0m     \u001b[38;5;28;01mreturn\u001b[39;00m cast(Dict, \u001b[43mconvert_pydantic_to_openai_function\u001b[49m\u001b[43m(\u001b[49m\u001b[43mfunction\u001b[49m\u001b[43m)\u001b[49m)\n\u001b[1;32m    285\u001b[0m \u001b[38;5;28;01melif\u001b[39;00m \u001b[38;5;28misinstance\u001b[39m(function, BaseTool):\n\u001b[1;32m    286\u001b[0m     \u001b[38;5;28;01mreturn\u001b[39;00m format_tool_to_openai_function(function)\n",
      "File \u001b[0;32m/usr/local/python/3.11.8/lib/python3.11/site-packages/langchain_core/_api/deprecation.py:145\u001b[0m, in \u001b[0;36mdeprecated.<locals>.deprecate.<locals>.warning_emitting_wrapper\u001b[0;34m(*args, **kwargs)\u001b[0m\n\u001b[1;32m    143\u001b[0m     warned \u001b[38;5;241m=\u001b[39m \u001b[38;5;28;01mTrue\u001b[39;00m\n\u001b[1;32m    144\u001b[0m     emit_warning()\n\u001b[0;32m--> 145\u001b[0m \u001b[38;5;28;01mreturn\u001b[39;00m \u001b[43mwrapped\u001b[49m\u001b[43m(\u001b[49m\u001b[38;5;241;43m*\u001b[39;49m\u001b[43margs\u001b[49m\u001b[43m,\u001b[49m\u001b[43m \u001b[49m\u001b[38;5;241;43m*\u001b[39;49m\u001b[38;5;241;43m*\u001b[39;49m\u001b[43mkwargs\u001b[49m\u001b[43m)\u001b[49m\n",
      "File \u001b[0;32m/usr/local/python/3.11.8/lib/python3.11/site-packages/langchain_core/utils/function_calling.py:79\u001b[0m, in \u001b[0;36mconvert_pydantic_to_openai_function\u001b[0;34m(model, name, description, rm_titles)\u001b[0m\n\u001b[1;32m     66\u001b[0m \u001b[38;5;129m@deprecated\u001b[39m(\n\u001b[1;32m     67\u001b[0m     \u001b[38;5;124m\"\u001b[39m\u001b[38;5;124m0.1.16\u001b[39m\u001b[38;5;124m\"\u001b[39m,\n\u001b[1;32m     68\u001b[0m     alternative\u001b[38;5;241m=\u001b[39m\u001b[38;5;124m\"\u001b[39m\u001b[38;5;124mlangchain_core.utils.function_calling.convert_to_openai_function()\u001b[39m\u001b[38;5;124m\"\u001b[39m,\n\u001b[0;32m   (...)\u001b[0m\n\u001b[1;32m     76\u001b[0m     rm_titles: \u001b[38;5;28mbool\u001b[39m \u001b[38;5;241m=\u001b[39m \u001b[38;5;28;01mTrue\u001b[39;00m,\n\u001b[1;32m     77\u001b[0m ) \u001b[38;5;241m-\u001b[39m\u001b[38;5;241m>\u001b[39m FunctionDescription:\n\u001b[1;32m     78\u001b[0m \u001b[38;5;250m    \u001b[39m\u001b[38;5;124;03m\"\"\"Converts a Pydantic model to a function description for the OpenAI API.\"\"\"\u001b[39;00m\n\u001b[0;32m---> 79\u001b[0m     schema \u001b[38;5;241m=\u001b[39m dereference_refs(\u001b[43mmodel\u001b[49m\u001b[38;5;241;43m.\u001b[39;49m\u001b[43mschema\u001b[49m\u001b[43m(\u001b[49m\u001b[43m)\u001b[49m)\n\u001b[1;32m     80\u001b[0m     schema\u001b[38;5;241m.\u001b[39mpop(\u001b[38;5;124m\"\u001b[39m\u001b[38;5;124mdefinitions\u001b[39m\u001b[38;5;124m\"\u001b[39m, \u001b[38;5;28;01mNone\u001b[39;00m)\n\u001b[1;32m     81\u001b[0m     title \u001b[38;5;241m=\u001b[39m schema\u001b[38;5;241m.\u001b[39mpop(\u001b[38;5;124m\"\u001b[39m\u001b[38;5;124mtitle\u001b[39m\u001b[38;5;124m\"\u001b[39m, \u001b[38;5;124m\"\u001b[39m\u001b[38;5;124m\"\u001b[39m)\n",
      "File \u001b[0;32m~/.local/lib/python3.11/site-packages/pydantic/v1/main.py:664\u001b[0m, in \u001b[0;36mBaseModel.schema\u001b[0;34m(cls, by_alias, ref_template)\u001b[0m\n\u001b[1;32m    662\u001b[0m \u001b[38;5;28;01mif\u001b[39;00m cached \u001b[38;5;129;01mis\u001b[39;00m \u001b[38;5;129;01mnot\u001b[39;00m \u001b[38;5;28;01mNone\u001b[39;00m:\n\u001b[1;32m    663\u001b[0m     \u001b[38;5;28;01mreturn\u001b[39;00m cached\n\u001b[0;32m--> 664\u001b[0m s \u001b[38;5;241m=\u001b[39m \u001b[43mmodel_schema\u001b[49m\u001b[43m(\u001b[49m\u001b[38;5;28;43mcls\u001b[39;49m\u001b[43m,\u001b[49m\u001b[43m \u001b[49m\u001b[43mby_alias\u001b[49m\u001b[38;5;241;43m=\u001b[39;49m\u001b[43mby_alias\u001b[49m\u001b[43m,\u001b[49m\u001b[43m \u001b[49m\u001b[43mref_template\u001b[49m\u001b[38;5;241;43m=\u001b[39;49m\u001b[43mref_template\u001b[49m\u001b[43m)\u001b[49m\n\u001b[1;32m    665\u001b[0m \u001b[38;5;28mcls\u001b[39m\u001b[38;5;241m.\u001b[39m__schema_cache__[(by_alias, ref_template)] \u001b[38;5;241m=\u001b[39m s\n\u001b[1;32m    666\u001b[0m \u001b[38;5;28;01mreturn\u001b[39;00m s\n",
      "File \u001b[0;32m~/.local/lib/python3.11/site-packages/pydantic/v1/schema.py:188\u001b[0m, in \u001b[0;36mmodel_schema\u001b[0;34m(model, by_alias, ref_prefix, ref_template)\u001b[0m\n\u001b[1;32m    186\u001b[0m model_name_map \u001b[38;5;241m=\u001b[39m get_model_name_map(flat_models)\n\u001b[1;32m    187\u001b[0m model_name \u001b[38;5;241m=\u001b[39m model_name_map[model]\n\u001b[0;32m--> 188\u001b[0m m_schema, m_definitions, nested_models \u001b[38;5;241m=\u001b[39m \u001b[43mmodel_process_schema\u001b[49m\u001b[43m(\u001b[49m\n\u001b[1;32m    189\u001b[0m \u001b[43m    \u001b[49m\u001b[43mmodel\u001b[49m\u001b[43m,\u001b[49m\u001b[43m \u001b[49m\u001b[43mby_alias\u001b[49m\u001b[38;5;241;43m=\u001b[39;49m\u001b[43mby_alias\u001b[49m\u001b[43m,\u001b[49m\u001b[43m \u001b[49m\u001b[43mmodel_name_map\u001b[49m\u001b[38;5;241;43m=\u001b[39;49m\u001b[43mmodel_name_map\u001b[49m\u001b[43m,\u001b[49m\u001b[43m \u001b[49m\u001b[43mref_prefix\u001b[49m\u001b[38;5;241;43m=\u001b[39;49m\u001b[43mref_prefix\u001b[49m\u001b[43m,\u001b[49m\u001b[43m \u001b[49m\u001b[43mref_template\u001b[49m\u001b[38;5;241;43m=\u001b[39;49m\u001b[43mref_template\u001b[49m\n\u001b[1;32m    190\u001b[0m \u001b[43m\u001b[49m\u001b[43m)\u001b[49m\n\u001b[1;32m    191\u001b[0m \u001b[38;5;28;01mif\u001b[39;00m model_name \u001b[38;5;129;01min\u001b[39;00m nested_models:\n\u001b[1;32m    192\u001b[0m     \u001b[38;5;66;03m# model_name is in Nested models, it has circular references\u001b[39;00m\n\u001b[1;32m    193\u001b[0m     m_definitions[model_name] \u001b[38;5;241m=\u001b[39m m_schema\n",
      "File \u001b[0;32m~/.local/lib/python3.11/site-packages/pydantic/v1/schema.py:581\u001b[0m, in \u001b[0;36mmodel_process_schema\u001b[0;34m(model, by_alias, model_name_map, ref_prefix, ref_template, known_models, field)\u001b[0m\n\u001b[1;32m    579\u001b[0m     s[\u001b[38;5;124m'\u001b[39m\u001b[38;5;124mdescription\u001b[39m\u001b[38;5;124m'\u001b[39m] \u001b[38;5;241m=\u001b[39m doc\n\u001b[1;32m    580\u001b[0m known_models\u001b[38;5;241m.\u001b[39madd(model)\n\u001b[0;32m--> 581\u001b[0m m_schema, m_definitions, nested_models \u001b[38;5;241m=\u001b[39m \u001b[43mmodel_type_schema\u001b[49m\u001b[43m(\u001b[49m\n\u001b[1;32m    582\u001b[0m \u001b[43m    \u001b[49m\u001b[43mmodel\u001b[49m\u001b[43m,\u001b[49m\n\u001b[1;32m    583\u001b[0m \u001b[43m    \u001b[49m\u001b[43mby_alias\u001b[49m\u001b[38;5;241;43m=\u001b[39;49m\u001b[43mby_alias\u001b[49m\u001b[43m,\u001b[49m\n\u001b[1;32m    584\u001b[0m \u001b[43m    \u001b[49m\u001b[43mmodel_name_map\u001b[49m\u001b[38;5;241;43m=\u001b[39;49m\u001b[43mmodel_name_map\u001b[49m\u001b[43m,\u001b[49m\n\u001b[1;32m    585\u001b[0m \u001b[43m    \u001b[49m\u001b[43mref_prefix\u001b[49m\u001b[38;5;241;43m=\u001b[39;49m\u001b[43mref_prefix\u001b[49m\u001b[43m,\u001b[49m\n\u001b[1;32m    586\u001b[0m \u001b[43m    \u001b[49m\u001b[43mref_template\u001b[49m\u001b[38;5;241;43m=\u001b[39;49m\u001b[43mref_template\u001b[49m\u001b[43m,\u001b[49m\n\u001b[1;32m    587\u001b[0m \u001b[43m    \u001b[49m\u001b[43mknown_models\u001b[49m\u001b[38;5;241;43m=\u001b[39;49m\u001b[43mknown_models\u001b[49m\u001b[43m,\u001b[49m\n\u001b[1;32m    588\u001b[0m \u001b[43m\u001b[49m\u001b[43m)\u001b[49m\n\u001b[1;32m    589\u001b[0m s\u001b[38;5;241m.\u001b[39mupdate(m_schema)\n\u001b[1;32m    590\u001b[0m schema_extra \u001b[38;5;241m=\u001b[39m model\u001b[38;5;241m.\u001b[39m__config__\u001b[38;5;241m.\u001b[39mschema_extra\n",
      "File \u001b[0;32m~/.local/lib/python3.11/site-packages/pydantic/v1/schema.py:622\u001b[0m, in \u001b[0;36mmodel_type_schema\u001b[0;34m(model, by_alias, model_name_map, ref_template, ref_prefix, known_models)\u001b[0m\n\u001b[1;32m    620\u001b[0m \u001b[38;5;28;01mfor\u001b[39;00m k, f \u001b[38;5;129;01min\u001b[39;00m model\u001b[38;5;241m.\u001b[39m__fields__\u001b[38;5;241m.\u001b[39mitems():\n\u001b[1;32m    621\u001b[0m     \u001b[38;5;28;01mtry\u001b[39;00m:\n\u001b[0;32m--> 622\u001b[0m         f_schema, f_definitions, f_nested_models \u001b[38;5;241m=\u001b[39m \u001b[43mfield_schema\u001b[49m\u001b[43m(\u001b[49m\n\u001b[1;32m    623\u001b[0m \u001b[43m            \u001b[49m\u001b[43mf\u001b[49m\u001b[43m,\u001b[49m\n\u001b[1;32m    624\u001b[0m \u001b[43m            \u001b[49m\u001b[43mby_alias\u001b[49m\u001b[38;5;241;43m=\u001b[39;49m\u001b[43mby_alias\u001b[49m\u001b[43m,\u001b[49m\n\u001b[1;32m    625\u001b[0m \u001b[43m            \u001b[49m\u001b[43mmodel_name_map\u001b[49m\u001b[38;5;241;43m=\u001b[39;49m\u001b[43mmodel_name_map\u001b[49m\u001b[43m,\u001b[49m\n\u001b[1;32m    626\u001b[0m \u001b[43m            \u001b[49m\u001b[43mref_prefix\u001b[49m\u001b[38;5;241;43m=\u001b[39;49m\u001b[43mref_prefix\u001b[49m\u001b[43m,\u001b[49m\n\u001b[1;32m    627\u001b[0m \u001b[43m            \u001b[49m\u001b[43mref_template\u001b[49m\u001b[38;5;241;43m=\u001b[39;49m\u001b[43mref_template\u001b[49m\u001b[43m,\u001b[49m\n\u001b[1;32m    628\u001b[0m \u001b[43m            \u001b[49m\u001b[43mknown_models\u001b[49m\u001b[38;5;241;43m=\u001b[39;49m\u001b[43mknown_models\u001b[49m\u001b[43m,\u001b[49m\n\u001b[1;32m    629\u001b[0m \u001b[43m        \u001b[49m\u001b[43m)\u001b[49m\n\u001b[1;32m    630\u001b[0m     \u001b[38;5;28;01mexcept\u001b[39;00m SkipField \u001b[38;5;28;01mas\u001b[39;00m skip:\n\u001b[1;32m    631\u001b[0m         warnings\u001b[38;5;241m.\u001b[39mwarn(skip\u001b[38;5;241m.\u001b[39mmessage, \u001b[38;5;167;01mUserWarning\u001b[39;00m)\n",
      "File \u001b[0;32m~/.local/lib/python3.11/site-packages/pydantic/v1/schema.py:248\u001b[0m, in \u001b[0;36mfield_schema\u001b[0;34m(field, by_alias, model_name_map, ref_prefix, ref_template, known_models)\u001b[0m\n\u001b[1;32m    222\u001b[0m \u001b[38;5;28;01mdef\u001b[39;00m \u001b[38;5;21mfield_schema\u001b[39m(\n\u001b[1;32m    223\u001b[0m     field: ModelField,\n\u001b[1;32m    224\u001b[0m     \u001b[38;5;241m*\u001b[39m,\n\u001b[0;32m   (...)\u001b[0m\n\u001b[1;32m    229\u001b[0m     known_models: Optional[TypeModelSet] \u001b[38;5;241m=\u001b[39m \u001b[38;5;28;01mNone\u001b[39;00m,\n\u001b[1;32m    230\u001b[0m ) \u001b[38;5;241m-\u001b[39m\u001b[38;5;241m>\u001b[39m Tuple[Dict[\u001b[38;5;28mstr\u001b[39m, Any], Dict[\u001b[38;5;28mstr\u001b[39m, Any], Set[\u001b[38;5;28mstr\u001b[39m]]:\n\u001b[1;32m    231\u001b[0m \u001b[38;5;250m    \u001b[39m\u001b[38;5;124;03m\"\"\"\u001b[39;00m\n\u001b[1;32m    232\u001b[0m \u001b[38;5;124;03m    Process a Pydantic field and return a tuple with a JSON Schema for it as the first item.\u001b[39;00m\n\u001b[1;32m    233\u001b[0m \u001b[38;5;124;03m    Also return a dictionary of definitions with models as keys and their schemas as values. If the passed field\u001b[39;00m\n\u001b[0;32m   (...)\u001b[0m\n\u001b[1;32m    246\u001b[0m \u001b[38;5;124;03m    :return: tuple of the schema for this field and additional definitions\u001b[39;00m\n\u001b[1;32m    247\u001b[0m \u001b[38;5;124;03m    \"\"\"\u001b[39;00m\n\u001b[0;32m--> 248\u001b[0m     s, schema_overrides \u001b[38;5;241m=\u001b[39m \u001b[43mget_field_info_schema\u001b[49m\u001b[43m(\u001b[49m\u001b[43mfield\u001b[49m\u001b[43m)\u001b[49m\n\u001b[1;32m    250\u001b[0m     validation_schema \u001b[38;5;241m=\u001b[39m get_field_schema_validations(field)\n\u001b[1;32m    251\u001b[0m     \u001b[38;5;28;01mif\u001b[39;00m validation_schema:\n",
      "File \u001b[0;32m~/.local/lib/python3.11/site-packages/pydantic/v1/schema.py:216\u001b[0m, in \u001b[0;36mget_field_info_schema\u001b[0;34m(field, schema_overrides)\u001b[0m\n\u001b[1;32m    213\u001b[0m     schema_overrides \u001b[38;5;241m=\u001b[39m \u001b[38;5;28;01mTrue\u001b[39;00m\n\u001b[1;32m    215\u001b[0m \u001b[38;5;28;01mif\u001b[39;00m \u001b[38;5;129;01mnot\u001b[39;00m field\u001b[38;5;241m.\u001b[39mrequired \u001b[38;5;129;01mand\u001b[39;00m field\u001b[38;5;241m.\u001b[39mdefault \u001b[38;5;129;01mis\u001b[39;00m \u001b[38;5;129;01mnot\u001b[39;00m \u001b[38;5;28;01mNone\u001b[39;00m \u001b[38;5;129;01mand\u001b[39;00m \u001b[38;5;129;01mnot\u001b[39;00m is_callable_type(field\u001b[38;5;241m.\u001b[39mouter_type_):\n\u001b[0;32m--> 216\u001b[0m     schema_[\u001b[38;5;124m'\u001b[39m\u001b[38;5;124mdefault\u001b[39m\u001b[38;5;124m'\u001b[39m] \u001b[38;5;241m=\u001b[39m \u001b[43mencode_default\u001b[49m\u001b[43m(\u001b[49m\u001b[43mfield\u001b[49m\u001b[38;5;241;43m.\u001b[39;49m\u001b[43mdefault\u001b[49m\u001b[43m)\u001b[49m\n\u001b[1;32m    217\u001b[0m     schema_overrides \u001b[38;5;241m=\u001b[39m \u001b[38;5;28;01mTrue\u001b[39;00m\n\u001b[1;32m    219\u001b[0m \u001b[38;5;28;01mreturn\u001b[39;00m schema_, schema_overrides\n",
      "File \u001b[0;32m~/.local/lib/python3.11/site-packages/pydantic/v1/schema.py:983\u001b[0m, in \u001b[0;36mencode_default\u001b[0;34m(dft)\u001b[0m\n\u001b[1;32m    980\u001b[0m     dft \u001b[38;5;241m=\u001b[39m cast(\u001b[38;5;124m'\u001b[39m\u001b[38;5;124mdict[str, Any]\u001b[39m\u001b[38;5;124m'\u001b[39m, pydantic_encoder(dft))\n\u001b[1;32m    982\u001b[0m \u001b[38;5;28;01mif\u001b[39;00m \u001b[38;5;28misinstance\u001b[39m(dft, \u001b[38;5;28mdict\u001b[39m):\n\u001b[0;32m--> 983\u001b[0m     \u001b[38;5;28;01mreturn\u001b[39;00m \u001b[43m{\u001b[49m\u001b[43mencode_default\u001b[49m\u001b[43m(\u001b[49m\u001b[43mk\u001b[49m\u001b[43m)\u001b[49m\u001b[43m:\u001b[49m\u001b[43m \u001b[49m\u001b[43mencode_default\u001b[49m\u001b[43m(\u001b[49m\u001b[43mv\u001b[49m\u001b[43m)\u001b[49m\u001b[43m \u001b[49m\u001b[38;5;28;43;01mfor\u001b[39;49;00m\u001b[43m \u001b[49m\u001b[43mk\u001b[49m\u001b[43m,\u001b[49m\u001b[43m \u001b[49m\u001b[43mv\u001b[49m\u001b[43m \u001b[49m\u001b[38;5;129;43;01min\u001b[39;49;00m\u001b[43m \u001b[49m\u001b[43mdft\u001b[49m\u001b[38;5;241;43m.\u001b[39;49m\u001b[43mitems\u001b[49m\u001b[43m(\u001b[49m\u001b[43m)\u001b[49m\u001b[43m}\u001b[49m\n\u001b[1;32m    984\u001b[0m \u001b[38;5;28;01melif\u001b[39;00m \u001b[38;5;28misinstance\u001b[39m(dft, Enum):\n\u001b[1;32m    985\u001b[0m     \u001b[38;5;28;01mreturn\u001b[39;00m dft\u001b[38;5;241m.\u001b[39mvalue\n",
      "File \u001b[0;32m~/.local/lib/python3.11/site-packages/pydantic/v1/schema.py:983\u001b[0m, in \u001b[0;36m<dictcomp>\u001b[0;34m(.0)\u001b[0m\n\u001b[1;32m    980\u001b[0m     dft \u001b[38;5;241m=\u001b[39m cast(\u001b[38;5;124m'\u001b[39m\u001b[38;5;124mdict[str, Any]\u001b[39m\u001b[38;5;124m'\u001b[39m, pydantic_encoder(dft))\n\u001b[1;32m    982\u001b[0m \u001b[38;5;28;01mif\u001b[39;00m \u001b[38;5;28misinstance\u001b[39m(dft, \u001b[38;5;28mdict\u001b[39m):\n\u001b[0;32m--> 983\u001b[0m     \u001b[38;5;28;01mreturn\u001b[39;00m {encode_default(k): \u001b[43mencode_default\u001b[49m\u001b[43m(\u001b[49m\u001b[43mv\u001b[49m\u001b[43m)\u001b[49m \u001b[38;5;28;01mfor\u001b[39;00m k, v \u001b[38;5;129;01min\u001b[39;00m dft\u001b[38;5;241m.\u001b[39mitems()}\n\u001b[1;32m    984\u001b[0m \u001b[38;5;28;01melif\u001b[39;00m \u001b[38;5;28misinstance\u001b[39m(dft, Enum):\n\u001b[1;32m    985\u001b[0m     \u001b[38;5;28;01mreturn\u001b[39;00m dft\u001b[38;5;241m.\u001b[39mvalue\n",
      "File \u001b[0;32m~/.local/lib/python3.11/site-packages/pydantic/v1/schema.py:995\u001b[0m, in \u001b[0;36mencode_default\u001b[0;34m(dft)\u001b[0m\n\u001b[1;32m    993\u001b[0m     \u001b[38;5;28;01mreturn\u001b[39;00m \u001b[38;5;28;01mNone\u001b[39;00m\n\u001b[1;32m    994\u001b[0m \u001b[38;5;28;01melse\u001b[39;00m:\n\u001b[0;32m--> 995\u001b[0m     \u001b[38;5;28;01mreturn\u001b[39;00m \u001b[43mpydantic_encoder\u001b[49m\u001b[43m(\u001b[49m\u001b[43mdft\u001b[49m\u001b[43m)\u001b[49m\n",
      "File \u001b[0;32m~/.local/lib/python3.11/site-packages/pydantic/v1/json.py:90\u001b[0m, in \u001b[0;36mpydantic_encoder\u001b[0;34m(obj)\u001b[0m\n\u001b[1;32m     88\u001b[0m     \u001b[38;5;28;01mreturn\u001b[39;00m encoder(obj)\n\u001b[1;32m     89\u001b[0m \u001b[38;5;28;01melse\u001b[39;00m:  \u001b[38;5;66;03m# We have exited the for loop without finding a suitable encoder\u001b[39;00m\n\u001b[0;32m---> 90\u001b[0m     \u001b[38;5;28;01mraise\u001b[39;00m \u001b[38;5;167;01mTypeError\u001b[39;00m(\u001b[38;5;124mf\u001b[39m\u001b[38;5;124m\"\u001b[39m\u001b[38;5;124mObject of type \u001b[39m\u001b[38;5;124m'\u001b[39m\u001b[38;5;132;01m{\u001b[39;00mobj\u001b[38;5;241m.\u001b[39m\u001b[38;5;18m__class__\u001b[39m\u001b[38;5;241m.\u001b[39m\u001b[38;5;18m__name__\u001b[39m\u001b[38;5;132;01m}\u001b[39;00m\u001b[38;5;124m'\u001b[39m\u001b[38;5;124m is not JSON serializable\u001b[39m\u001b[38;5;124m\"\u001b[39m)\n",
      "\u001b[0;31mTypeError\u001b[0m: Object of type 'ModelMetaclass' is not JSON serializable"
     ]
    }
   ],
   "source": [
    "# Bringing it together: implement RAG\n",
    "\n",
    "\n",
    "azure_openai_embeddings = AzureOpenAIEmbeddings(\n",
    "    azure_deployment = os.getenv(\"AZURE_OPENAI_EMBEDDING_DEPLOYMENT_NAME\")\n",
    ")\n",
    "\n",
    "azure_openai = AzureChatOpenAI(\n",
    "    azure_deployment = os.getenv(\"AZURE_OPENAI_COMPLETION_DEPLOYMENT_NAME\")\n",
    ")\n",
    "\n",
    "\n",
    "\n",
    "\n",
    "model_with_tools = azure_openai.bind_tools([TruckLiveStatus], tool_choice=\"auto\")\n",
    "\n",
    "\n",
    "\n",
    "#model_with_tools = azure_openai.bind_tools([get_trucklive_status], tool_choice=\"auto\")\n",
    "#model_with_tools.kwargs[\"tools\"]\n",
    "\n",
    "# Ask the question\n",
    "query = \"What is the TruckLive Status of my truck with the vin 123456789?\"\n",
    "\n",
    "# Create a prompt template with variables, note the curly braces\n",
    "from langchain.prompts import PromptTemplate\n",
    "prompt = PromptTemplate(\n",
    "    input_variables=[\"original_question\",\"search_results\"],\n",
    "    template=\"\"\"\n",
    "    Question: {original_question}\n",
    "\n",
    "    Nutze keine anderen Daten, als die zur Verfügung gestellten Daten, für deine Antworten.\n",
    "    Du bist ein Chatbot für das Kundenportal von Mercedes-Benz Trucks. \n",
    "    Antworte freundlich und inkludiere so viele Referenzen wie möglich in deine Anworten.\n",
    "    Antworte immer in der Sprache, in welcher die Anfrage gestellt wurde.\n",
    "    {search_results}\n",
    "    \"\"\",\n",
    ")\n",
    "\n",
    "\n",
    "\n",
    "results = list(vector_store.similarity_search(\n",
    "    query=query,\n",
    "    k=3,\n",
    "    search_type=\"hybrid\",\n",
    "))\n",
    "\n",
    "chain = model_with_tools\n",
    "chain.invoke(query)\n",
    "\n",
    "# Build the Prompt and Execute against the Azure OpenAI to get the completion\n",
    "#chain = LLMChain(llm=model_with_tools, prompt=prompt, verbose=False)\n",
    "#response = chain.invoke({\"original_question\": query, \"search_results\": results})\n",
    "#print(response)"
   ]
  }
 ],
 "metadata": {
  "kernelspec": {
   "display_name": "Python 3",
   "language": "python",
   "name": "python3"
  },
  "language_info": {
   "codemirror_mode": {
    "name": "ipython",
    "version": 3
   },
   "file_extension": ".py",
   "mimetype": "text/x-python",
   "name": "python",
   "nbconvert_exporter": "python",
   "pygments_lexer": "ipython3",
   "version": "3.11.8"
  }
 },
 "nbformat": 4,
 "nbformat_minor": 2
}
